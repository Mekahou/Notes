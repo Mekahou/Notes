{
 "cells": [
  {
   "cell_type": "markdown",
   "id": "a3b0cd6e-0583-4a86-b7ae-600d9c70fe3e",
   "metadata": {},
   "source": [
    "**From a series of application of modern interpolation methods for economics: written by [Mahdi E Kahou](https://sites.google.com/site/mahdiebrahimikahou/about-me)**\n"
   ]
  },
  {
   "cell_type": "markdown",
   "id": "f92a4b7b-cb7f-409e-80a8-6f664c8e25e8",
   "metadata": {},
   "source": [
    "# Goal of this notebook  \n",
    "\n",
    "The purpose of this notebook is to demonstrate:  \n",
    "1. How to numerically calculate the expectation of a univariate function $v(x)$ with respect to a normal distribution.  \n",
    "2. How to apply the Gauss–Hermite quadrature method for this task.  \n",
    "3. Since these lecture notes focus on machine learning methods, we will emphasize the case where $v(x)$ is represented by a neural network.\n",
    "\n",
    " ---"
   ]
  },
  {
   "cell_type": "markdown",
   "id": "509811e9-d4cb-4c0c-b849-1ea00d7c1954",
   "metadata": {},
   "source": [
    "## The Problem\n",
    "\n",
    "Consider a function $v: \\mathbb{R} \\to \\mathbb{R}$.  \n",
    "We are interested in numerically computing  \n",
    "\n",
    "$$\n",
    "\\begin{align*}\n",
    "\\mathbb{E}[v(X)] = \\int_{-\\infty}^{\\infty} v(x) f(x;\\mu,\\sigma) dx\n",
    "\\end{align*}\n",
    "$$\n",
    "\n",
    "where $f(x;\\mu,\\sigma) = \\frac{1}{\\sqrt{2\\pi\\sigma^2}} e^{-\\frac{(x-\\mu)^2}{2\\sigma^2}}$ is the pdf of a normal distribution $\\mathcal{N}(\\mu,\\sigma^2)$.\n",
    "\n",
    "---"
   ]
  },
  {
   "cell_type": "code",
   "execution_count": null,
   "id": "f5ee6b99-d58e-4e2c-ad50-1bcac372aa74",
   "metadata": {},
   "outputs": [],
   "source": []
  }
 ],
 "metadata": {
  "kernelspec": {
   "display_name": "Python 3 (ipykernel)",
   "language": "python",
   "name": "python3"
  },
  "language_info": {
   "codemirror_mode": {
    "name": "ipython",
    "version": 3
   },
   "file_extension": ".py",
   "mimetype": "text/x-python",
   "name": "python",
   "nbconvert_exporter": "python",
   "pygments_lexer": "ipython3",
   "version": "3.11.7"
  }
 },
 "nbformat": 4,
 "nbformat_minor": 5
}
