{
 "cells": [
  {
   "cell_type": "markdown",
   "id": "a3b0cd6e-0583-4a86-b7ae-600d9c70fe3e",
   "metadata": {},
   "source": [
    "**From a series of application of modern interpolation methods for economics: written by [Mahdi E Kahou](https://sites.google.com/site/mahdiebrahimikahou/about-me)**\n"
   ]
  },
  {
   "cell_type": "markdown",
   "id": "f92a4b7b-cb7f-409e-80a8-6f664c8e25e8",
   "metadata": {},
   "source": [
    "# Goal of this notebook  \n",
    "\n",
    "The purpose of this notebook is to demonstrate:  \n",
    "1. How to numerically calculate the expectation of a univariate function $v(x)$ with respect to a normal distribution.  \n",
    "2. How to apply the Gauss–Hermite quadrature method for this task.  \n",
    "3. Since these lecture notes focus on machine learning methods, we will emphasize the case where $v(x)$ is represented by a neural network.\n",
    "\n",
    " ---"
   ]
  },
  {
   "cell_type": "markdown",
   "id": "509811e9-d4cb-4c0c-b849-1ea00d7c1954",
   "metadata": {},
   "source": [
    "## The Problem\n",
    "\n",
    "Consider a function $v: \\mathbb{R} \\to \\mathbb{R}$.  \n",
    "We are interested in numerically computing  \n",
    "\n",
    "$$\n",
    "\\begin{align*}\n",
    "\\mathbb{E}[v(X)] = \\int_{-\\infty}^{\\infty} v(x) f(x;\\mu,\\sigma) dx\n",
    "\\end{align*}\n",
    "$$\n",
    "\n",
    "where $f(x;\\mu,\\sigma) = \\frac{1}{\\sqrt{2\\pi\\sigma^2}} e^{-\\frac{(x-\\mu)^2}{2\\sigma^2}}$ is the pdf of a normal distribution $\\mathcal{N}(\\mu,\\sigma^2)$.\n",
    "\n",
    "---"
   ]
  },
  {
   "cell_type": "markdown",
   "id": "2e3df722-22bb-4dd8-aaec-11edb286a23e",
   "metadata": {},
   "source": [
    "## Gauss–Hermite quadrature\n",
    "\n",
    "This method approximates the following integral by calculating a weighted sum of the function values at specific points, called **nodes**:\n",
    "\n",
    "$$\n",
    "\\begin{align*}\n",
    "\\int_{-\\infty}^{\\infty} h(z) e^{-z^2} \\, dz \\;\\approx\\; \\sum_{i=1}^n w_i \\, h(z_i)\n",
    "\\end{align*}\n",
    "$$\n",
    "\n",
    "- $n$: the number of nodes  \n",
    "- $w_i$: the quadrature weights  \n",
    "- $z_i$: the nodes, which are the roots of the *physicists’ version* of the [Hermite polynomial](https://en.wikipedia.org/wiki/Hermite_polynomials) of degree $n$.  \n",
    "\n",
    "---\n",
    "\n",
    "**Important note:** Our original goal is to calculate  \n",
    "\n",
    "$$\n",
    "\\begin{align*}\n",
    "\\frac{1}{\\sqrt{2\\pi\\sigma^2}} \\int_{-\\infty}^{\\infty} v(x)\\, e^{-\\frac{(x-\\mu)^2}{2\\sigma^2}} \\, dx,\n",
    "\\end{align*}\n",
    "$$  \n",
    "\n",
    "which involves a normal distribution. The Gauss–Hermite formula above looks slightly different because it is tailored to integrals of the form  \n",
    "\n",
    "$$\n",
    "\\begin{align*}\n",
    "\\int_{-\\infty}^{\\infty} h(z) e^{-z^2} dz.\n",
    "\\end{align*}\n",
    "$$  \n",
    "\n",
    "We will reconcile the two expressions by applying an appropriate change of variables.\n",
    "\n"
   ]
  },
  {
   "cell_type": "markdown",
   "id": "1d341fb6-48c8-490f-a389-26408e9ccae6",
   "metadata": {},
   "source": [
    "## Going from $\\int_{-\\infty}^{\\infty} h(z) e^{-z^2} \\, dz$ to $\\frac{1}{\\sqrt{2\\pi\\sigma^2}} \\int_{-\\infty}^{\\infty} v(x) e^{-\\tfrac{(x-\\mu)^2}{2\\sigma^2}} \\, dx$"
   ]
  },
  {
   "cell_type": "markdown",
   "id": "569966e0-ef03-4fd1-b059-b7e2c8beeb29",
   "metadata": {},
   "source": [
    "Consider the cahne of variable:\n",
    "$$\n",
    "\\begin{align*}\n",
    " z = \\frac{x - \\mu}{\\sqrt{2} \\sigma}\n",
    "\\end{align*}\n",
    "$$\n",
    "\n",
    "with this change of variable we can write"
   ]
  },
  {
   "cell_type": "code",
   "execution_count": null,
   "id": "ed7c070c-885f-42b1-b55c-b175245e0e8a",
   "metadata": {},
   "outputs": [],
   "source": []
  }
 ],
 "metadata": {
  "kernelspec": {
   "display_name": "Python 3 (ipykernel)",
   "language": "python",
   "name": "python3"
  },
  "language_info": {
   "codemirror_mode": {
    "name": "ipython",
    "version": 3
   },
   "file_extension": ".py",
   "mimetype": "text/x-python",
   "name": "python",
   "nbconvert_exporter": "python",
   "pygments_lexer": "ipython3",
   "version": "3.11.7"
  }
 },
 "nbformat": 4,
 "nbformat_minor": 5
}
