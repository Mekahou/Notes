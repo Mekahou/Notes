{
 "cells": [
  {
   "cell_type": "markdown",
   "id": "0e2c1538-8e36-457b-857b-d7be59b79166",
   "metadata": {},
   "source": [
    "**From a series of application of modern interpolation methods for economics: written by [Mahdi E Kahou](https://sites.google.com/site/mahdiebrahimikahou/about-me)**\n"
   ]
  },
  {
   "cell_type": "markdown",
   "id": "9e8c14a0-1e33-4c43-9f3b-eecdc91ab71f",
   "metadata": {},
   "source": [
    "# Goal of this notebook  \n",
    "\n",
    "The purpose of this notebook is to demonstrate:  \n",
    "1. How to numerically calculate the integral of a univariate function, $v(x)$.  \n",
    "2. How to apply the Gauss–Legendre quadrature method for this task.  \n",
    "3. Since these lecture notes focus on machine learning methods, we will emphasize the case where $v(x)$ is represented by a neural network.\n",
    "\n",
    "---"
   ]
  },
  {
   "cell_type": "markdown",
   "id": "60ec93a7-aa30-4a86-b2ad-fbedee6efb72",
   "metadata": {},
   "source": [
    "## The Problem\n",
    "\n",
    "Consider a function $v: \\mathbb{R} \\to \\mathbb{R}$.  \n",
    "We are interested in numerically computing  \n",
    "\n",
    "$$\n",
    "\\int_{a}^b v(x)\\,dx.\n",
    "$$\n",
    "\n",
    "---"
   ]
  },
  {
   "cell_type": "markdown",
   "id": "1ffa8bce-492f-490f-80e8-a766dddf3b58",
   "metadata": {},
   "source": [
    "## Gauss-Legendre Quadrature\n",
    "\n",
    "This method approximates the integral by calculating a weighted sum of the function values at specific points, called **nodes**:\n",
    "\n",
    "$$\n",
    "\\int_{-1}^1 v(x)\\,dx \\;\\approx\\; \\sum_{i=1}^n w_i\\,v(x_i).\n",
    "$$\n",
    "\n",
    "- $n$: the number of nodes  \n",
    "- $w_i$: the quadrature weights  \n",
    "- $x_i$: the nodes, which are the roots of the $n$-th Legendre polynomial\n",
    "---\n",
    "**Important note:** The original goal is to calculate the integral over $[a, b]$.  The formula above, however, is defined on $[-1, 1]$. \n",
    "\n",
    "This will be addressed later in the notebook using an appropriate change of variables.\n",
    "\n",
    "---"
   ]
  },
  {
   "cell_type": "markdown",
   "id": "93a9f164-59e3-40f4-8aa6-83a441f013d0",
   "metadata": {},
   "source": [
    "## How to implement it in Python\n",
    "\n",
    "The `NumPy` function that provides Gauss–Legendre quadrature nodes and weights is  \n",
    "\n",
    "`np.polynomial.legendre.leggauss(n)`,  \n",
    "\n",
    "where $n$ is the number of nodes.\n",
    "\n",
    "---"
   ]
  },
  {
   "cell_type": "markdown",
   "id": "7cce8164-146d-4e58-83b1-1d9559b431a8",
   "metadata": {},
   "source": [
    "## Simple examples\n",
    "\n",
    "### Example 1:\n",
    "\n",
    "Consider the function $v(x) = x^2$.  \n",
    "The integral can be computed analytically as  \n",
    "\n",
    "$$\n",
    "\\int_{-1}^{1} v(x) \\, dx = \\frac{2}{3}.\n",
    "$$\n",
    "\n",
    "Let's implement this in Python:"
   ]
  },
  {
   "cell_type": "code",
   "execution_count": 1,
   "id": "5b6e8c33-f037-43c0-9ce4-8646c228eb37",
   "metadata": {},
   "outputs": [],
   "source": [
    "# importing packages we need\n",
    "import matplotlib.pyplot as plt\n",
    "import numpy as np"
   ]
  },
  {
   "cell_type": "code",
   "execution_count": 2,
   "id": "c1f3b6e8-cdf2-4172-9511-6025bd9b954a",
   "metadata": {},
   "outputs": [
    {
     "name": "stdout",
     "output_type": "stream",
     "text": [
      "Approximated integral: 0.666666666666667\n"
     ]
    }
   ],
   "source": [
    "def v(x):\n",
    "    return x**2\n",
    " \n",
    "n = 3\n",
    " \n",
    "nodes, weights = np.polynomial.legendre.leggauss(n)\n",
    " \n",
    "approximation = sum(weights * v(nodes))\n",
    " \n",
    "print(\"Approximated integral:\", approximation)"
   ]
  },
  {
   "cell_type": "markdown",
   "id": "4987ff0c-dd07-4e09-8548-0df9e6c3cab6",
   "metadata": {},
   "source": [
    "### Example 2:  \n",
    "Let's try something **more challenging**.  \n",
    "\n",
    "Consider the function $v(x) = \\max\\{0.5, x\\}$.  \n",
    "\n",
    "The integral can be computed analytically as  \n",
    "\n",
    "$$\n",
    "\\int_{-1}^{1} v(x) \\, dx = \\frac{9}{8} = 1.125.\n",
    "$$\n",
    "\n",
    "Let's first visualize the function."
   ]
  },
  {
   "cell_type": "code",
   "execution_count": 3,
   "id": "d70d28e7-b396-4829-bcf9-c88b5b8c8fbc",
   "metadata": {},
   "outputs": [
    {
     "data": {
      "image/png": "[encoded data removed]",
      "text/plain": [
       "<Figure size 600x400 with 1 Axes>"
      ]
     },
     "metadata": {},
     "output_type": "display_data"
    }
   ],
   "source": [
    "def v(x):\n",
    "    return np.maximum(0.5, x)\n",
    "\n",
    "# Create grid\n",
    "x = np.linspace(-1, 1, 400)\n",
    "y = v(x)\n",
    "\n",
    "# Plot\n",
    "plt.figure(figsize=(6,4))\n",
    "plt.plot(x, y, label=r'$v(x) = \\max\\{0.5, x\\}$', color='k', lw=2)\n",
    "\n",
    "# Customize x-axis\n",
    "plt.xticks([-1, 0, 1])\n",
    "plt.xlim(-1, 1)\n",
    "plt.ylim(0, 1.1)\n",
    "\n",
    "\n",
    "# Labels and title\n",
    "plt.xlabel('x')\n",
    "plt.ylabel('v(x)')\n",
    "plt.title('Plot of $v(x) = \\max\\{0.5, x\\}$')\n",
    "plt.legend()\n",
    "\n",
    "plt.show()"
   ]
  },
  {
   "cell_type": "code",
   "execution_count": 4,
   "id": "55433fcf-6335-4a51-8147-4925e16ae5db",
   "metadata": {},
   "outputs": [
    {
     "name": "stdout",
     "output_type": "stream",
     "text": [
      "Approximated integral: 1.1254613877292212\n"
     ]
    }
   ],
   "source": [
    "n = 10\n",
    "\n",
    "def v(x):\n",
    "    return np.maximum(0.5, x)\n",
    "    \n",
    "nodes, weights = np.polynomial.legendre.leggauss(n)\n",
    " \n",
    "approximation = sum(weights * v(nodes))\n",
    " \n",
    "print(\"Approximated integral:\", approximation)"
   ]
  },
  {
   "cell_type": "markdown",
   "id": "37ebae3b-0fa2-468a-800e-57d636e7c111",
   "metadata": {},
   "source": [
    "### Why is this a challenging example?\n",
    "\n",
    "As you can see, we need to increase the number of nodes to get closer to the true integral value.  \n",
    "This is because $v(x) = \\max\\{0.5, x\\}$ has a kink at $x = 0.5$; the function is continuous but not differentiable at this point. \n",
    "\n",
    "So in some sense it is not smooth. For more detials see [Art Owen's lecture notes](https://artowen.su.domains/mc/Ch-quadrature.pdf).\n",
    "\n",
    "---"
   ]
  },
  {
   "cell_type": "markdown",
   "id": "de8c47de-6bf2-41d2-8800-ae7f1395a28d",
   "metadata": {},
   "source": [
    "## Going from $\\int_{-1}^1 v(x)\\, dx ~$ to $~\\int_{a}^b v(x)\\, dx$."
   ]
  },
  {
   "cell_type": "markdown",
   "id": "064ce745-18ec-430f-bdc2-e90d75db54e5",
   "metadata": {},
   "source": [
    "Consider the original problem  \n",
    "\n",
    "$$\n",
    "\\int_{a}^b v(x)\\, dx.\n",
    "$$  \n",
    "\n",
    "We apply the change of variable  \n",
    "\n",
    "$$\n",
    "s = \\frac{2}{b-a}x - \\frac{a+b}{b-a}.\n",
    "$$  \n",
    "\n",
    "Then,  \n",
    "\n",
    "$$\n",
    "\\begin{aligned}\n",
    "dx &= \\frac{b-a}{2}\\, ds, \\\\\n",
    "x &= \\frac{b-a}{2}\\,s + \\frac{a+b}{2}.\n",
    "\\end{aligned}\n",
    "$$  \n",
    "\n",
    "Substituting into the integral gives  \n",
    "\n",
    "$$\n",
    "\\int_a^b v(x)\\, dx \n",
    "= \\int_{-1}^1 \\tilde{v}(s)\\, ds,\n",
    "$$  \n",
    "\n",
    "where  \n",
    "\n",
    "$$\n",
    "\\tilde{v}(s) = \\frac{b-a}{2}\\, v\\!\\left(\\tfrac{b-a}{2}s + \\tfrac{a+b}{2}\\right).\n",
    "$$  \n",
    "\n",
    "\n"
   ]
  },
  {
   "cell_type": "markdown",
   "id": "a4931aef-e406-4d5e-89da-a5effd970bb0",
   "metadata": {},
   "source": [
    "Now that we have transformed the problem into a form suitable for applying the quadrature method, we can write\n",
    "\n",
    "$$\n",
    "\\int_{a}^b v(x)\\, dx \n",
    "= \\sum_{i=1}^n w_i\\, \\tilde{v}(x_i) \n",
    "= \\frac{b-a}{2} \\sum_{i=1}^n w_i\\, v\\!\\left(\\tfrac{b-a}{2}x_i + \\tfrac{a+b}{2}\\right).\n",
    "$$  \n",
    "\n",
    "---\n",
    "Next, we implement this numerically.\n"
   ]
  },
  {
   "cell_type": "code",
   "execution_count": 5,
   "id": "d43ac52b-72ca-477b-a68b-ed306bf636c7",
   "metadata": {},
   "outputs": [],
   "source": [
    "def int_quad_gl(v,a,b,n):\n",
    "    # v: the function\n",
    "    # a: lower bound of the integral\n",
    "    # b: upper bound of the integral\n",
    "    # n: number of the nodes\n",
    "    nodes, weights = np.polynomial.legendre.leggauss(n)\n",
    "    adjusted_nodes = ( ( (b-a)/2 )*nodes ) + ( (a+b)/2 )\n",
    "    approximation = ((b-a)/2)*sum(weights * v(adjusted_nodes))\n",
    "    return approximation\n",
    "\n",
    "    \n",
    "    \n",
    "    "
   ]
  },
  {
   "cell_type": "markdown",
   "id": "dd64247a-9ea2-4b88-bde7-78fa81d11087",
   "metadata": {},
   "source": [
    "## Simple examples\n",
    "### Example 3:\n",
    "\n",
    "Consider the function $v(x) = x^2$.  \n",
    "The integral can be computed analytically as  \n",
    "\n",
    "$$\n",
    "\\int_{0}^{3} v(x) \\, dx = 9.\n",
    "$$\n"
   ]
  },
  {
   "cell_type": "code",
   "execution_count": 6,
   "id": "e3885263-cf11-4393-9ec4-f5c1e28024aa",
   "metadata": {},
   "outputs": [],
   "source": [
    "def v(x):\n",
    "    return x**2"
   ]
  },
  {
   "cell_type": "code",
   "execution_count": 7,
   "id": "c15c3526-080d-4e91-a0ae-72b988389c81",
   "metadata": {},
   "outputs": [
    {
     "data": {
      "text/plain": [
       "9.000000000000002"
      ]
     },
     "execution_count": 7,
     "metadata": {},
     "output_type": "execute_result"
    }
   ],
   "source": [
    "int_quad_gl(v = v,a = 0, b=3 ,n = 3)"
   ]
  },
  {
   "cell_type": "markdown",
   "id": "91fea27e-158b-43a5-a193-02092735e0ae",
   "metadata": {},
   "source": [
    "### Example 4:  \n",
    "Consider the function $v(x) = \\max\\{0.5, x\\}$.  \n",
    "\n",
    "The integral can be computed analytically as  \n",
    "\n",
    "$$\n",
    "\\int_{-2}^{4} v(x) \\, dx = \\frac{9}{8} = 9.125.\n",
    "$$\n"
   ]
  },
  {
   "cell_type": "code",
   "execution_count": 8,
   "id": "25c99cba-5b34-4fb3-9aa3-3e65369e8ea2",
   "metadata": {},
   "outputs": [
    {
     "data": {
      "text/plain": [
       "9.121070599750608"
      ]
     },
     "execution_count": 8,
     "metadata": {},
     "output_type": "execute_result"
    }
   ],
   "source": [
    "def v(x):\n",
    "    return np.maximum(0.5, x)\n",
    "    \n",
    "int_quad_gl(v = v,a = -2, b=4 , n = 15)"
   ]
  },
  {
   "cell_type": "markdown",
   "id": "e08913a2-fff5-40b8-8645-4315661bc337",
   "metadata": {},
   "source": [
    "## Integration of a neural network\n",
    "\n",
    "Let $v:\\mathbb{R}\\to\\mathbb{R}$ be a neural network.  \n",
    "There is **nothing special** about using a neural network here. The procedure is exactly the same as before, except that we use **PyTorch** and tensors.\n",
    "\n",
    "---\n",
    "Let's implement it.\n",
    "\n",
    "First let's construct a neural network"
   ]
  },
  {
   "cell_type": "code",
   "execution_count": 9,
   "id": "ad005580-a5fd-4583-ab44-719f6e90d952",
   "metadata": {},
   "outputs": [],
   "source": [
    "import torch\n",
    "import torch.nn as nn\n",
    "import torch.nn.functional as F"
   ]
  },
  {
   "cell_type": "code",
   "execution_count": 10,
   "id": "e6e4c51b-bc60-4776-b5ec-9dc4f9d29f08",
   "metadata": {},
   "outputs": [],
   "source": [
    "class NN(nn.Module):\n",
    "    def __init__(self,\n",
    "                 dim_hidden = 128,\n",
    "                layers = 1,\n",
    "                hidden_bias = True):\n",
    "        super().__init__()\n",
    "        self.dim_hidden= dim_hidden\n",
    "        self.layers = layers\n",
    "        self.hidden_bias = hidden_bias\n",
    "\n",
    "        torch.manual_seed(123)\n",
    "        module = []\n",
    "        module.append(nn.Linear(1,self.dim_hidden, bias = self.hidden_bias))\n",
    "        module.append(nn.Tanh())\n",
    "\n",
    "        for i in range(self.layers-1):\n",
    "            module.append(nn.Linear(self.dim_hidden,self.dim_hidden, bias = self.hidden_bias))\n",
    "            module.append(nn.Tanh())\n",
    "\n",
    "        module.append(nn.Linear(self.dim_hidden,1))\n",
    "        module.append(nn.Softplus(beta = 1.0)) \n",
    "\n",
    "        self.q = nn.Sequential(*module)\n",
    "\n",
    "\n",
    "    def forward(self, x):\n",
    "        out = self.q(x) # first element is consumption, the second element is capital\n",
    "        return  out"
   ]
  },
  {
   "cell_type": "code",
   "execution_count": 11,
   "id": "6d4f7267-f3e6-4a6a-a258-f07bcb5e31b7",
   "metadata": {},
   "outputs": [],
   "source": [
    "v_nn = NN()"
   ]
  },
  {
   "cell_type": "code",
   "execution_count": 12,
   "id": "d41c7d38-9b49-4da1-8335-15302093b9ea",
   "metadata": {},
   "outputs": [],
   "source": [
    "def int_quad_gl_tensor(v, a, b, n):\n",
    "    # v: the neural network (or any callable)\n",
    "    # a: lower bound of the integral\n",
    "    # b: upper bound of the integral\n",
    "    # n: number of the nodes\n",
    "    nodes, weights = np.polynomial.legendre.leggauss(n)\n",
    "    nodes_tensor = torch.tensor(nodes, dtype=torch.float32).unsqueeze(-1)\n",
    "    weights_tensor = torch.tensor(weights, dtype=torch.float32).unsqueeze(-1)\n",
    "    adjusted_nodes = ((b - a) / 2) * nodes_tensor + ((a + b) / 2)\n",
    "    approximation = ((b - a) / 2) * torch.sum(weights_tensor * v(adjusted_nodes))\n",
    "    return approximation\n"
   ]
  },
  {
   "cell_type": "code",
   "execution_count": 13,
   "id": "1a9b7b36-3d5a-4f8f-ad7c-8ebd1a667922",
   "metadata": {},
   "outputs": [
    {
     "data": {
      "text/plain": [
       "tensor(1.0491, grad_fn=<MulBackward0>)"
      ]
     },
     "execution_count": 13,
     "metadata": {},
     "output_type": "execute_result"
    }
   ],
   "source": [
    "int_quad_gl_tensor(v = v_nn,a = 0, b = 3, n = 5)"
   ]
  },
  {
   "cell_type": "markdown",
   "id": "8acae8c8-4d61-4163-9fdb-63c09929d2a6",
   "metadata": {},
   "source": [
    "## Comparing it with Monte-carlo\n",
    "\n",
    "At the end of the day, we want to use this integral to calculate the expectation of a neural network with respect to a uniform distribution.\n",
    "\n",
    "Let `x` come from a uniform distribution with support `[a, b]`, then\n",
    "\n",
    "$$\n",
    "\\mathbb{E}[v(x)] = \\frac{1}{b-a}\\int_{a}^b v(x)\\,dx\n",
    "$$\n",
    "\n",
    "Therefore,\n",
    "\n",
    "$$\n",
    "\\int_{a}^b v(x)\\,dx = (b-a) \\, \\mathbb{E}[v(x)]\n",
    "$$\n",
    "\n",
    "Using the **law of large numbers**, we can approximate\n",
    "\n",
    "$$\n",
    "\\int_{a}^b v(x)\\,dx \\approx (b-a) \\frac{1}{N} \\sum_{i=1}^N v(x_i)\n",
    "$$\n",
    "\n",
    "where $\\{x_i\\}_{i=1}^N$ are drawn from $\\mathcal{U}[a,b]$.\n"
   ]
  },
  {
   "cell_type": "code",
   "execution_count": 14,
   "id": "430dfbee-eef2-4542-a7b1-e7d8a14d8628",
   "metadata": {},
   "outputs": [],
   "source": [
    "def int_LLN(v,a,b,N):\n",
    "    x_samples = (b - a) * torch.rand(N, 1) + a\n",
    "    v_values = v(x_samples)\n",
    "    integral = (b-a)*v_values.mean()\n",
    "    return integral\n"
   ]
  },
  {
   "cell_type": "code",
   "execution_count": 15,
   "id": "14f556df-70d5-4845-b91a-ce7e98aa74aa",
   "metadata": {},
   "outputs": [
    {
     "data": {
      "text/plain": [
       "tensor(1.1044, grad_fn=<MulBackward0>)"
      ]
     },
     "execution_count": 15,
     "metadata": {},
     "output_type": "execute_result"
    }
   ],
   "source": [
    "int_LLN(v= v_nn,a = 0, b = 3, N = 100)"
   ]
  },
  {
   "cell_type": "code",
   "execution_count": 16,
   "id": "28bb3c7c-a756-4d20-ae61-68ac37b49c38",
   "metadata": {},
   "outputs": [
    {
     "data": {
      "text/plain": [
       "tensor(1.0491, grad_fn=<MulBackward0>)"
      ]
     },
     "execution_count": 16,
     "metadata": {},
     "output_type": "execute_result"
    }
   ],
   "source": [
    "int_quad_gl_tensor(v = v_nn,a = 0, b = 3, n = 5)"
   ]
  },
  {
   "cell_type": "code",
   "execution_count": null,
   "id": "56c326c1-ae63-4474-8a7a-b48c2090014c",
   "metadata": {},
   "outputs": [],
   "source": []
  }
 ],
 "metadata": {
  "kernelspec": {
   "display_name": "Python 3 (ipykernel)",
   "language": "python",
   "name": "python3"
  },
  "language_info": {
   "codemirror_mode": {
    "name": "ipython",
    "version": 3
   },
   "file_extension": ".py",
   "mimetype": "text/x-python",
   "name": "python",
   "nbconvert_exporter": "python",
   "pygments_lexer": "ipython3",
   "version": "3.11.7"
  }
 },
 "nbformat": 4,
 "nbformat_minor": 5
}
