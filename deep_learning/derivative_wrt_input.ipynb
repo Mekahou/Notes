{
 "cells": [
  {
   "cell_type": "markdown",
   "id": "795e49ad-6937-4b51-848d-a20ef467d56c",
   "metadata": {},
   "source": [
    "**From a series of application of modern interpolation methods for economics: written by [Mahdi E Kahou](https://sites.google.com/site/mahdiebrahimikahou/about-me)**\n",
    "\n",
    "\n",
    "# Goal of this notebook  \n",
    "The goal of this notebook is to demonstrate:  \n",
    "1. How to calculate the derivative of a neural network with respect to its input.  \n",
    "2. How to minimize a loss function that explicitly involves the derivative of a neural network.  \n",
    "\n",
    "---\n",
    "\n",
    "## The Mathematical Application\n",
    "\n",
    "Consider the following ordinary differential equation:  \n",
    "\n",
    "$$\n",
    "\\begin{align}\n",
    "\\dot{y} + y &= 0, \\\\\n",
    "y(0) &= y_0.\n",
    "\\end{align}\n",
    "$$  \n",
    "\n",
    "This ODE admits a simple closed-form solution:  \n",
    "\n",
    "$$\n",
    "y(t) = y_0 e^{-t}.\n",
    "$$\n",
    "\n",
    "Suppose we want to solve this problem using a neural network, denoted by $\\hat{y}(t)$.  \n",
    "\n",
    "---\n",
    "\n",
    "## Challenge: Computing Input Derivatives  \n",
    "To solve the ODE, we need to compute the derivative of the neural network with respect to its input:  \n",
    "\n",
    "$$\n",
    "\\dot{\\hat{y}}(t) = \\frac{d \\hat{y}(t)}{dt}.\n",
    "$$  \n",
    "\n",
    "Python packages like `PyTorch` readily provide derivatives of the neural network with respect to its **weights and biases**, but they do not automatically provide derivatives with respect to the **input**.  \n",
    "\n",
    "---\n",
    "\n",
    "## Loss Function  \n",
    "\n",
    "Using this derivative, we can minimize the following loss function:\n",
    "\n",
    "$$\n",
    "\\begin{align}\n",
    "\\mathcal{L} = \\frac{1}{n} \\sum_{t_i \\in \\mathcal{D}} \n",
    "\\Big( \\left[\\dot{\\hat{y}}(t_i) + \\hat{y}(t_i)\\right]^2 \n",
    "+ \\left[\\hat{y}(0) - y_0\\right]^2 \\Big),\n",
    "\\end{align}\n",
    "$$\n",
    " \n",
    "where  \n",
    "\n",
    "$$\n",
    "\\mathcal{D} \\equiv \\{t_1,\\cdots,t_n\\}.\n",
    "$$\n"
   ]
  },
  {
   "cell_type": "code",
   "execution_count": 1,
   "id": "6d7e6b5b-e71d-40c2-b8f2-7ae46be2c91b",
   "metadata": {},
   "outputs": [],
   "source": [
    "# Importing packages"
   ]
  },
  {
   "cell_type": "code",
   "execution_count": 2,
   "id": "083309cf-4b60-44e8-b63a-e1fc0d5230b1",
   "metadata": {},
   "outputs": [],
   "source": [
    "import numpy as np\n",
    "import torch\n",
    "import torch.nn as nn\n",
    "import torch.nn.functional as F\n",
    "from torch.utils.data import Dataset, DataLoader\n",
    "import matplotlib.pyplot as plt\n",
    "from matplotlib import cm"
   ]
  },
  {
   "cell_type": "code",
   "execution_count": 3,
   "id": "3083a27b-79d3-409a-9a81-009a36b62b8d",
   "metadata": {},
   "outputs": [],
   "source": [
    "# setting the initial condition"
   ]
  },
  {
   "cell_type": "code",
   "execution_count": 4,
   "id": "7507b9ee-4aa7-4438-b7d3-d53653740cdc",
   "metadata": {},
   "outputs": [],
   "source": [
    "y_0 = 1 "
   ]
  },
  {
   "cell_type": "code",
   "execution_count": 5,
   "id": "fa41f878-3553-41be-8972-8fbded247b62",
   "metadata": {},
   "outputs": [],
   "source": [
    "# defining the neural network"
   ]
  },
  {
   "cell_type": "code",
   "execution_count": 6,
   "id": "ea187cc8-194e-4e16-8f87-c885652e7b25",
   "metadata": {},
   "outputs": [],
   "source": [
    "class NN(nn.Module):\n",
    "    def __init__(self,\n",
    "                 dim_hidden = 128,\n",
    "                layers = 4,\n",
    "                hidden_bias = True):\n",
    "        super().__init__()\n",
    "        self.dim_hidden= dim_hidden\n",
    "        self.layers = layers\n",
    "        self.hidden_bias = hidden_bias\n",
    "\n",
    "        torch.manual_seed(123)\n",
    "        module = []\n",
    "        module.append(nn.Linear(1,self.dim_hidden, bias = self.hidden_bias))\n",
    "        module.append(nn.Tanh())\n",
    "\n",
    "        for i in range(self.layers-1):\n",
    "            module.append(nn.Linear(self.dim_hidden,self.dim_hidden, bias = self.hidden_bias))\n",
    "            module.append(nn.Tanh())\n",
    "\n",
    "        module.append(nn.Linear(self.dim_hidden,1))\n",
    "        module.append(nn.Softplus(beta = 1.0)) #The softplus layer ensures c>0,k>0\n",
    "\n",
    "        self.q = nn.Sequential(*module)\n",
    "\n",
    "\n",
    "    def forward(self, x):\n",
    "        out = self.q(x) # first element is consumption, the second element is capital\n",
    "        return  out"
   ]
  },
  {
   "cell_type": "code",
   "execution_count": 7,
   "id": "265028bc-2940-49f6-8096-c8c6a76645c8",
   "metadata": {},
   "outputs": [],
   "source": [
    "# defining the training data"
   ]
  },
  {
   "cell_type": "code",
   "execution_count": 8,
   "id": "d5d6cae8-3c92-4da1-b1bf-9d86540fadcb",
   "metadata": {},
   "outputs": [],
   "source": [
    "train_t_max = 29\n",
    "time_grid = torch.arange(0.0, train_t_max , 0.5)\n",
    "time_grid = time_grid.unsqueeze(dim =1)\n",
    "\n",
    "data_loader = DataLoader(time_grid, batch_size=len(time_grid), shuffle= False)"
   ]
  },
  {
   "cell_type": "markdown",
   "id": "ab53e060-c5af-47a3-a220-71c3f2704964",
   "metadata": {},
   "source": [
    "Taking the derivative with respect to the input: an example before the training loop\n",
    "\n",
    "To achieve this, we use PyTorch’s `autograd` functionality.\n",
    "\n",
    "-----------------------\n"
   ]
  },
  {
   "cell_type": "code",
   "execution_count": 9,
   "id": "eabb16e1-51b1-4b3c-a5e3-de03412c0437",
   "metadata": {},
   "outputs": [],
   "source": [
    "net = NN()\n",
    "\n",
    "# Input (requires_grad=True so we can differentiate wrt input)\n",
    "t = torch.tensor([[1.0]], requires_grad=True)\n",
    "\n",
    "# Forward pass\n",
    "y = net(t)\n",
    "\n",
    "# Compute dy/dx using autograd\n",
    "dydt = torch.autograd.grad(\n",
    "    outputs=y, \n",
    "    inputs=t,\n",
    "    grad_outputs=torch.ones_like(y),  # vector-Jacobian product\n",
    "    create_graph=True  # keep graph if you want higher-order derivatives\n",
    ")[0]\n"
   ]
  },
  {
   "cell_type": "code",
   "execution_count": 10,
   "id": "604d9b0d-bf8e-47c7-bf8c-eb10aaa46e10",
   "metadata": {},
   "outputs": [
    {
     "name": "stdout",
     "output_type": "stream",
     "text": [
      "y(t) = 0.7231759428977966\n",
      "dy/dt = 0.006894356105476618\n"
     ]
    }
   ],
   "source": [
    "print(\"y(t) =\", y.item())\n",
    "print(\"dy/dt =\", dydt.item())"
   ]
  },
  {
   "cell_type": "markdown",
   "id": "4e20de25-8b4f-4ec4-95a4-a62a22673ef2",
   "metadata": {},
   "source": [
    "--------------"
   ]
  },
  {
   "cell_type": "code",
   "execution_count": 11,
   "id": "83cd6f9a-3050-4662-841d-119853f3caef",
   "metadata": {},
   "outputs": [],
   "source": [
    "# definining the derivative function"
   ]
  },
  {
   "cell_type": "code",
   "execution_count": 12,
   "id": "3a771fd1-372b-4d6f-b304-f9f7922051fa",
   "metadata": {},
   "outputs": [],
   "source": [
    "def dy_dt(t, model):\n",
    "   \n",
    "    t = t.clone().detach().float()\n",
    "\n",
    "    # Ensure correct shape and enable gradient tracking\n",
    "    t = t.view(-1, 1).requires_grad_(True)\n",
    "\n",
    "    y = model(t)  # forward pass\n",
    "    dy = torch.autograd.grad(\n",
    "        outputs=y,\n",
    "        inputs=t,\n",
    "        grad_outputs=torch.ones_like(y),\n",
    "        create_graph=True\n",
    "    )[0]\n",
    "\n",
    "    return dy"
   ]
  },
  {
   "cell_type": "code",
   "execution_count": 13,
   "id": "8924a0a3-a923-4481-b1df-edd33eebd331",
   "metadata": {},
   "outputs": [],
   "source": [
    "# setting up the optimizer"
   ]
  },
  {
   "cell_type": "code",
   "execution_count": 14,
   "id": "19e7fe3a-6688-426c-a0f7-a807bf961e02",
   "metadata": {},
   "outputs": [],
   "source": [
    "y_hat = NN()\n",
    "learning_rate = 1e-3\n",
    "optimizer = torch.optim.Adam(y_hat.parameters(), lr=learning_rate)\n",
    "scheduler = torch.optim.lr_scheduler.StepLR(optimizer, step_size=100, gamma=0.95)"
   ]
  },
  {
   "cell_type": "code",
   "execution_count": 15,
   "id": "7513f42c-9c85-4754-8e85-eebe0f942660",
   "metadata": {},
   "outputs": [],
   "source": [
    "# number of epochs"
   ]
  },
  {
   "cell_type": "code",
   "execution_count": 16,
   "id": "c7db0aa7-b9a5-41e7-972b-dc1699a73a45",
   "metadata": {},
   "outputs": [],
   "source": [
    "num_epochs = 2001\n",
    "\n",
    "print_epoch_frequency = 100 # how often printing the results"
   ]
  },
  {
   "cell_type": "code",
   "execution_count": 17,
   "id": "9b282575-356d-461f-815f-4501172d7d5f",
   "metadata": {},
   "outputs": [
    {
     "name": "stdout",
     "output_type": "stream",
     "text": [
      "epoch = 0, loss = 6.28e-01\n",
      "epoch = 100, loss = 1.28e-03\n",
      "epoch = 200, loss = 2.99e-04\n",
      "epoch = 300, loss = 1.36e-04\n",
      "epoch = 400, loss = 9.54e-05\n",
      "epoch = 500, loss = 8.54e-05\n",
      "epoch = 600, loss = 6.34e-05\n",
      "epoch = 700, loss = 1.07e-04\n",
      "epoch = 800, loss = 5.55e-05\n",
      "epoch = 900, loss = 4.34e-05\n",
      "epoch = 1000, loss = 3.52e-05\n",
      "epoch = 1100, loss = 2.93e-05\n",
      "epoch = 1200, loss = 3.94e-05\n",
      "epoch = 1300, loss = 2.74e-05\n",
      "epoch = 1400, loss = 2.34e-05\n",
      "epoch = 1500, loss = 2.03e-05\n",
      "epoch = 1600, loss = 1.88e-03\n",
      "epoch = 1700, loss = 1.99e-05\n",
      "epoch = 1800, loss = 1.75e-05\n",
      "epoch = 1900, loss = 1.56e-05\n",
      "epoch = 2000, loss = 1.41e-05\n"
     ]
    }
   ],
   "source": [
    "# Training loop\n",
    "\n",
    "for epoch in range(num_epochs):\n",
    "    for time in data_loader:\n",
    "        optimizer.zero_grad() # Resetting the gradients (with respect to NN coefficients)\n",
    "        \n",
    "        y = y_hat(time)\n",
    "        dydt = dy_dt(time,y_hat)\n",
    "        \n",
    "        residual_ode = y+ dydt\n",
    "        \n",
    "        time_zero = torch.zeros([1,1]) # t = 0 \n",
    "        residual_initial_cond = y_hat(time_zero)-y_0\n",
    "        loss = residual_ode.pow(2).mean() + residual_initial_cond.pow(2).mean()\n",
    "        \n",
    "        loss.backward() # Calculating the gradients (with respect to NN coefficients)\n",
    "        optimizer.step() # Using the gradients to minimize the loss function\n",
    "        \n",
    "    scheduler.step() # Dampening the learning rate\n",
    "    \n",
    "    if epoch % print_epoch_frequency == 0:\n",
    "        print(f\"epoch = {epoch}, loss = {loss.detach().numpy():.2e}\")\n",
    "\n",
    "\n"
   ]
  },
  {
   "cell_type": "markdown",
   "id": "12dda901-7fdd-404f-a684-3983eaf42820",
   "metadata": {},
   "source": [
    "### Plotting the results"
   ]
  },
  {
   "cell_type": "code",
   "execution_count": 25,
   "id": "55f81bfb-6809-42a7-b16f-4ac74723365c",
   "metadata": {},
   "outputs": [],
   "source": [
    "# closed-form solution"
   ]
  },
  {
   "cell_type": "code",
   "execution_count": 76,
   "id": "115659e5-c247-4d9b-bd65-f3230e6caf34",
   "metadata": {},
   "outputs": [],
   "source": [
    "fontsize= 14\n",
    "ticksize = 14\n",
    "figsize = (14, 6)\n",
    "params = {'font.family':'serif',\n",
    "    \"figure.figsize\":figsize,\n",
    "    'figure.dpi': 80,\n",
    "    'figure.edgecolor': 'k',\n",
    "    'font.size': fontsize,\n",
    "    'axes.labelsize': fontsize,\n",
    "    'axes.titlesize': fontsize,\n",
    "    'xtick.labelsize': ticksize,\n",
    "    'ytick.labelsize': ticksize\n",
    "}\n",
    "plt.rcParams.update(params)"
   ]
  },
  {
   "cell_type": "code",
   "execution_count": 77,
   "id": "f79b05f1-748c-4fcd-8d70-583a44350eac",
   "metadata": {},
   "outputs": [],
   "source": [
    "def y_cf(t):\n",
    "    return y_0*torch.exp(-t)"
   ]
  },
  {
   "cell_type": "code",
   "execution_count": 78,
   "id": "56341fdc-17b7-4b65-af86-3b10ee165822",
   "metadata": {},
   "outputs": [],
   "source": [
    "test_T = 50\n",
    "time_grid_test = torch.arange(0.0, test_T , 0.25)\n",
    "time_grid_test = time_grid_test.unsqueeze(dim =1)"
   ]
  },
  {
   "cell_type": "code",
   "execution_count": 79,
   "id": "6dae69e5-6c9d-4550-b014-32dd43ad4034",
   "metadata": {},
   "outputs": [],
   "source": [
    "# Closed-form solution\n",
    "def y_cf(t):\n",
    "    return y_0 * torch.exp(-t)\n",
    "\n",
    "# Evaluate solution\n",
    "y_closed_form = y_cf(time_grid_test)\n"
   ]
  },
  {
   "cell_type": "code",
   "execution_count": 80,
   "id": "4a05a3c0-0c17-4035-843e-160f2c727adc",
   "metadata": {},
   "outputs": [],
   "source": [
    "y_hat_test = y_hat(time_grid_test).detach() # \\hat{y}(t)"
   ]
  },
  {
   "cell_type": "code",
   "execution_count": 81,
   "id": "aa444cb1-d4eb-4979-aafa-58c3c562fc6b",
   "metadata": {},
   "outputs": [],
   "source": [
    "# relative errors\n",
    "errors = torch.abs(y_hat_test - y_closed_form)"
   ]
  },
  {
   "cell_type": "code",
   "execution_count": 82,
   "id": "59de7d83-1ffb-478c-addf-a5c3f6622206",
   "metadata": {},
   "outputs": [],
   "source": [
    "# interpolation boundary:\n",
    "T_interpolation =  time_grid.max().item()"
   ]
  },
  {
   "cell_type": "code",
   "execution_count": 86,
   "id": "909fc2cc-45e4-42d7-b114-46fd2a089da2",
   "metadata": {},
   "outputs": [
    {
     "data": {
      "image/png": "[encoded data removed]",
      "text/plain": [
       "<Figure size 1120x480 with 2 Axes>"
      ]
     },
     "metadata": {},
     "output_type": "display_data"
    }
   ],
   "source": [
    "fig, axes = plt.subplots(1, 2)\n",
    "\n",
    "# --- Left plot ---\n",
    "axes[0].plot(time_grid_test, y_hat_test, label=r\"$\\hat{y}(t)$: Neural Net\", color=\"k\")\n",
    "axes[0].plot(time_grid_test, y_closed_form, \n",
    "             label=r\"$y(t)$: Closed-form, $y_0 e^{-t}$\", \n",
    "             color=\"red\", linestyle=\"dashed\")\n",
    "axes[0].axvline(x=T_interpolation, color=\"gray\", linestyle=\"dotted\", label=r\"Interpolatio/Extrapolation\")  # 👈 horizontal line\n",
    "axes[0].set_xlabel(\"Time\")\n",
    "axes[0].set_title(r\"Closed-form vs Neural Net\")\n",
    "axes[0].legend(loc=\"upper right\")\n",
    "\n",
    "# --- Right plot (residuals example, you can change what you want here) ---\n",
    "residuals = y_hat_test - y_closed_form\n",
    "axes[1].plot(time_grid_test, errors, color=\"blue\", label = r\"|$\\hat{y}(t) - y(t)|$\")\n",
    "axes[1].set_xlabel(\"Time\")\n",
    "axes[1].set_title(\"Errors\")\n",
    "axes[1].legend(loc=\"lower right\")\n",
    "axes[1].set_yscale(\"log\")\n",
    "fig.suptitle(r\" Solution to $\\dot{y}(t) + y(t) = 0, ~ y(0) = y_0$\", fontsize=14)\n",
    "\n",
    "plt.tight_layout()\n",
    "\n",
    "plt.show()"
   ]
  },
  {
   "cell_type": "code",
   "execution_count": null,
   "id": "ac917923-b6f7-4608-abea-6f5a89fba51b",
   "metadata": {},
   "outputs": [],
   "source": []
  }
 ],
 "metadata": {
  "kernelspec": {
   "display_name": "Python 3 (ipykernel)",
   "language": "python",
   "name": "python3"
  },
  "language_info": {
   "codemirror_mode": {
    "name": "ipython",
    "version": 3
   },
   "file_extension": ".py",
   "mimetype": "text/x-python",
   "name": "python",
   "nbconvert_exporter": "python",
   "pygments_lexer": "ipython3",
   "version": "3.11.7"
  }
 },
 "nbformat": 4,
 "nbformat_minor": 5
}
