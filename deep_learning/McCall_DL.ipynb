{
 "cells": [
  {
   "cell_type": "markdown",
   "id": "697010c1-bf3f-46e1-9c92-7f11aa2b3bf0",
   "metadata": {},
   "source": [
    "**From a series of application of modern interpolation methods for economics: written by [Mahdi E Kahou](https://sites.google.com/site/mahdiebrahimikahou/about-me)**\n"
   ]
  },
  {
   "cell_type": "markdown",
   "id": "ce7c24a7-1bc4-4f9f-b893-2c9e4dce231b",
   "metadata": {},
   "source": [
    "# Goal of this notebook  \n",
    "The goal of this notebook is to solve the [McCall search model](https://python.quantecon.org/mccall_model.html):\n",
    "\n",
    "1. For exposition, we assume the simplest possible distribution for wages:  \n",
    "   $$\n",
    "   w \\sim \\mathcal{U}[0, B]\n",
    "   $$\n",
    "\n",
    "2. For more complex wage distributions, we can use numerical integration methods as discussed in *\"How to calculate the expectations of a neural network.\"*\n",
    "\n",
    "\n",
    "---\n",
    "\n",
    "## Set-up \n",
    "\n",
    "An unemployed agent receives a job offer \\(w_t\\) in each period.\n",
    "\n",
    "In this lecture, we consider the following simple environment:\n",
    "\n",
    "* The sequence of offers $\\{w_t\\}_{t \\geq 0}$ is i.i.d, with pdf $f(w)$   \n",
    "* The agent observes $w_t$ at the beginning of period $t$.  \n",
    "* The agent knows that $\\{w_t\\}$ is i.i.d with pdf $f(w)$ and can use this information when computing expectations.\n",
    "\n",
    "\n",
    "At each time $t$, the agent has two options:\n",
    "\n",
    "1. Accept the offer and work permanently at wage $w_t$.  \n",
    "2. Reject the offer, receive unemployment compensation $c$, and reconsider next period.\n",
    "\n",
    "See [Ljungqvist and Sargent](https://www.sfu.ca/~kkasa/Recursive_Macroeconomic_Theory_Ljungqvist_Sargent_2018.pdf) Chapter 6.\n",
    "\n",
    "The value function for this agent is\n",
    "\n",
    "$$\n",
    "v(w) = \n",
    "\\underset{\\text{Accept or Reject}}{\\max} \\biggl\\{ \\frac{w}{1-\\beta}, c+ \\beta \\int_0^B v(w')f(w')dw'\\biggr\\}\n",
    "$$\n",
    "\n",
    "\n",
    "### Closed-form solution\n",
    "\n",
    "This problem accepts a closed-form solution of the form \n",
    "\n",
    "$$\n",
    "v(w) =\n",
    "\\begin{cases} \n",
    "\\frac{\\bar{w}}{1-\\beta} & \\text{if } w \\leq \\bar{w} \\\\[2mm]\n",
    "\\frac{w}{1-\\beta} & \\text{if } w < \\bar{w}\n",
    "\\end{cases}\n",
    "$$\n",
    "\n",
    "where $\\frac{\\bar{w}}{1-\\beta} = c + \\beta \\int_0^B v(w')f(w')dw'$. The reservation wage $\\bar{w}$ can be found by solving\n",
    "\n",
    "$$\n",
    "\\bar{w} - c = \\frac{\\beta}{1-\\beta} \\int_{\\bar{w}}^B (w'-\\bar{w})f(w')dw'\n",
    "$$"
   ]
  },
  {
   "cell_type": "code",
   "execution_count": null,
   "id": "b7697986-8e0b-4ba7-ae30-30b2eda1e330",
   "metadata": {},
   "outputs": [],
   "source": []
  }
 ],
 "metadata": {
  "kernelspec": {
   "display_name": "Python 3 (ipykernel)",
   "language": "python",
   "name": "python3"
  },
  "language_info": {
   "codemirror_mode": {
    "name": "ipython",
    "version": 3
   },
   "file_extension": ".py",
   "mimetype": "text/x-python",
   "name": "python",
   "nbconvert_exporter": "python",
   "pygments_lexer": "ipython3",
   "version": "3.11.7"
  }
 },
 "nbformat": 4,
 "nbformat_minor": 5
}
