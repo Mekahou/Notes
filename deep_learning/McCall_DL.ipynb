{
 "cells": [
  {
   "cell_type": "markdown",
   "id": "697010c1-bf3f-46e1-9c92-7f11aa2b3bf0",
   "metadata": {},
   "source": [
    "**From a series of application of modern interpolation methods for economics: written by [Mahdi E Kahou](https://sites.google.com/site/mahdiebrahimikahou/about-me)**\n"
   ]
  },
  {
   "cell_type": "markdown",
   "id": "ce7c24a7-1bc4-4f9f-b893-2c9e4dce231b",
   "metadata": {},
   "source": [
    "# Goal of this notebook  \n",
    "The goal of this notebook is to solve the [McCall search model](https://python.quantecon.org/mccall_model.html):\n",
    "\n",
    "1. For exposition, we assume the simplest possible distribution for wages:  \n",
    "   $$\n",
    "   w \\sim \\mathcal{U}[0, B]\n",
    "   $$\n",
    "\n",
    "2. For more complex wage distributions, we can use numerical integration methods as discussed in *\"How to calculate the expectations of a neural network.\"*\n",
    "\n",
    "\n",
    "---\n",
    "\n",
    "## Set-up \n",
    "\n",
    "An unemployed agent receives a job offer \\(w_t\\) in each period.\n",
    "\n",
    "In this lecture, we consider the following simple environment:\n",
    "\n",
    "* The sequence of offers $\\{w_t\\}_{t \\geq 0}$ is i.i.d, with pdf $f(w)$   \n",
    "* The agent observes $w_t$ at the beginning of period $t$.  \n",
    "* The agent knows that $\\{w_t\\}$ is i.i.d with pdf $f(w)$ and can use this information when computing expectations.\n",
    "\n",
    "\n",
    "At each time $t$, the agent has two options:\n",
    "\n",
    "1. Accept the offer and work permanently at wage $w_t$.  \n",
    "2. Reject the offer, receive unemployment compensation $c$, and reconsider next period.\n",
    "\n",
    "See [Ljungqvist and Sargent](https://www.sfu.ca/~kkasa/Recursive_Macroeconomic_Theory_Ljungqvist_Sargent_2018.pdf) Chapter 6.\n",
    "\n",
    "The value function for this agent is\n",
    "\n",
    "$$\n",
    "v(w) = \n",
    "\\underset{\\text{Accept or Reject}}{\\max} \\biggl\\{ \\frac{w}{1-\\beta}, c+ \\beta \\int_0^B v(w')f(w')dw'\\biggr\\}\n",
    "$$\n",
    "\n",
    "\n",
    "### Closed-form solution\n",
    "\n",
    "This problem admits a closed-form solution in which the policy is a discrete choice:  \n",
    "\n",
    "$$\n",
    "u(w) = \\begin{cases} \n",
    "\\text{Reject} & \\text{if } w < \\bar{w} \\\\[2mm]\n",
    "\\text{Accept} & \\text{if } w \\geq \\bar{w}\n",
    "\\end{cases}\n",
    "$$  \n",
    "\n",
    "where $\\bar{w}$ is the **reservation wage**. The value function takes the form  \n",
    "\n",
    "$$\n",
    "v(w) =\n",
    "\\begin{cases} \n",
    "\\frac{\\bar{w}}{1-\\beta} & \\text{if } w < \\bar{w} \\\\[2mm]\n",
    "\\frac{w}{1-\\beta} & \\text{if } w \\geq \\bar{w}\n",
    "\\end{cases}\n",
    "$$  \n",
    "\n",
    "where the reservation wage satisfies  \n",
    "\n",
    "$$\n",
    "\\frac{\\bar{w}}{1-\\beta} \\;=\\; c + \\beta \\int_0^B v(w') f(w') \\, dw'.  \n",
    "$$  \n",
    "\n",
    "Equivalently, $\\bar{w}$ can be found by solving  \n",
    "\n",
    "$$\n",
    "\\bar{w} - c = \\frac{\\beta}{1-\\beta} \\int_{\\bar{w}}^B (w' - \\bar{w}) f(w') \\, dw'.  \n",
    "$$  \n"
   ]
  },
  {
   "cell_type": "code",
   "execution_count": 1,
   "id": "b7697986-8e0b-4ba7-ae30-30b2eda1e330",
   "metadata": {},
   "outputs": [],
   "source": [
    "# Importing packages"
   ]
  },
  {
   "cell_type": "code",
   "execution_count": 2,
   "id": "a24f09ce-faf5-4174-a995-14e22c88a8b5",
   "metadata": {},
   "outputs": [],
   "source": [
    "import numpy as np\n",
    "import torch\n",
    "import torch.nn as nn\n",
    "import torch.nn.functional as F\n",
    "from torch.utils.data import Dataset, DataLoader\n",
    "import matplotlib.pyplot as plt\n",
    "from matplotlib import cm\n",
    "\n",
    "# For closed-form solution\n",
    "from scipy.integrate import quad\n",
    "from scipy.optimize import fsolve"
   ]
  },
  {
   "cell_type": "code",
   "execution_count": 3,
   "id": "bb59c1ac-232a-4f92-8306-289c7d1711ba",
   "metadata": {},
   "outputs": [],
   "source": [
    "fontsize= 14\n",
    "ticksize = 14\n",
    "figsize = (8, 6)\n",
    "params_fig = {'font.family':'serif',\n",
    "    \"figure.figsize\":figsize,\n",
    "    'figure.dpi': 80,\n",
    "    'figure.edgecolor': 'k',\n",
    "    'font.size': fontsize,\n",
    "    'axes.labelsize': fontsize,\n",
    "    'axes.titlesize': fontsize,\n",
    "    'xtick.labelsize': ticksize,\n",
    "    'ytick.labelsize': ticksize\n",
    "}\n",
    "plt.rcParams.update(params_fig)"
   ]
  },
  {
   "cell_type": "markdown",
   "id": "dcbc1f99-efe0-4ee5-bfb3-bcd7a110b3f7",
   "metadata": {},
   "source": [
    "## Closed form solution"
   ]
  },
  {
   "cell_type": "code",
   "execution_count": 4,
   "id": "84492672-b5d3-49c4-ba63-cbd883cf89e6",
   "metadata": {},
   "outputs": [],
   "source": [
    "B = 0.5\n",
    "c = 0.05\n",
    "β = 0.9"
   ]
  },
  {
   "cell_type": "code",
   "execution_count": 5,
   "id": "1aafdbf5-95b6-4ed4-94c4-fe1a9a42a08c",
   "metadata": {},
   "outputs": [],
   "source": [
    "## PDF of wages uniformly distributed on [0, B]\n",
    "f = lambda w: 1/B if 0 <= w <= B else 0"
   ]
  },
  {
   "cell_type": "code",
   "execution_count": 6,
   "id": "a07b21ba-4d19-4054-b7ed-d362fb57a388",
   "metadata": {},
   "outputs": [],
   "source": [
    "def indifference(w):\n",
    "    LHS = w-c\n",
    "    integrand = lambda z: (z - w) * f(z)\n",
    "    integral, error = quad(integrand, w, B)\n",
    "    \n",
    "    RHS = (β/(1-β))* integral\n",
    "    return LHS-RHS"
   ]
  },
  {
   "cell_type": "code",
   "execution_count": 7,
   "id": "419d49d5-6648-4f83-b8f3-a19b3ad51cab",
   "metadata": {},
   "outputs": [],
   "source": [
    "## finiding w_bar"
   ]
  },
  {
   "cell_type": "code",
   "execution_count": 8,
   "id": "e4923190-9fd2-4869-b2fe-59d0b402e598",
   "metadata": {},
   "outputs": [],
   "source": [
    "w_bar = fsolve(indifference, x0=0.5)[0]"
   ]
  },
  {
   "cell_type": "code",
   "execution_count": 9,
   "id": "9eb274fd-7e17-40e6-b623-e891e45e9bcd",
   "metadata": {},
   "outputs": [],
   "source": [
    "## closed-form value function "
   ]
  },
  {
   "cell_type": "code",
   "execution_count": 10,
   "id": "7950c586-428a-478b-aa82-0a8047cb868c",
   "metadata": {},
   "outputs": [],
   "source": [
    "def v_theory(w):\n",
    "    reject_value = w_bar/(1-β)\n",
    "    accept_value = w/(1-β)\n",
    "    index = (w> w_bar)*1.0\n",
    "    return (index*accept_value)+ ((1-index)*reject_value)"
   ]
  },
  {
   "cell_type": "code",
   "execution_count": 11,
   "id": "5e551133-ba53-47b1-a2fa-9df1c1eba61f",
   "metadata": {},
   "outputs": [],
   "source": [
    "w_grid = np.linspace(0,B,1000)\n",
    "v_theory_grid = v_theory(w_grid)"
   ]
  },
  {
   "cell_type": "code",
   "execution_count": 12,
   "id": "5fd31683-7cd0-4c57-b5cd-2823803e60fa",
   "metadata": {},
   "outputs": [
    {
     "data": {
      "image/png": "[encoded data removed]",
      "text/plain": [
       "<Figure size 640x480 with 1 Axes>"
      ]
     },
     "metadata": {},
     "output_type": "display_data"
    }
   ],
   "source": [
    "plt.plot(w_grid, v_theory_grid, '--', color = \"k\", label='Theoretical Value Function')\n",
    "plt.xlabel('$w$')\n",
    "plt.ylabel('$v(w)$')\n",
    "plt.legend()\n",
    "plt.show()"
   ]
  },
  {
   "cell_type": "markdown",
   "id": "e0c688f2-797c-4f02-a827-e85ebdc9aa97",
   "metadata": {},
   "source": [
    "## Deep learning solution"
   ]
  },
  {
   "cell_type": "code",
   "execution_count": 13,
   "id": "81e96855-9e23-46b6-9553-971bc497e081",
   "metadata": {},
   "outputs": [],
   "source": [
    "# defining the neural network"
   ]
  },
  {
   "cell_type": "code",
   "execution_count": 14,
   "id": "376214d3-1edd-435c-aa00-a7a52aeb92c2",
   "metadata": {},
   "outputs": [],
   "source": [
    "class NN(nn.Module):\n",
    "    def __init__(self,\n",
    "                 dim_hidden = 128,\n",
    "                layers = 2,\n",
    "                hidden_bias = True):\n",
    "        super().__init__()\n",
    "        self.dim_hidden= dim_hidden\n",
    "        self.layers = layers\n",
    "        self.hidden_bias = hidden_bias\n",
    "\n",
    "        torch.manual_seed(123)\n",
    "        module = []\n",
    "        module.append(nn.Linear(1,self.dim_hidden, bias = self.hidden_bias))\n",
    "        module.append(nn.ReLU())\n",
    "\n",
    "        for i in range(self.layers-1):\n",
    "            module.append(nn.Linear(self.dim_hidden,self.dim_hidden, bias = self.hidden_bias))\n",
    "            module.append(nn.Tanh())\n",
    "\n",
    "        module.append(nn.Linear(self.dim_hidden,1))\n",
    "        #module.append(nn.Softplus(beta = 1.0)) #The softplus layer ensures c>0,k>0\n",
    "\n",
    "        self.q = nn.Sequential(*module)\n",
    "\n",
    "\n",
    "    def forward(self, x):\n",
    "        out = self.q(x) # first element is consumption, the second element is capital\n",
    "        return  out"
   ]
  },
  {
   "cell_type": "code",
   "execution_count": 15,
   "id": "2b9e6d97-4f70-4391-9d7b-d459966a74ad",
   "metadata": {},
   "outputs": [],
   "source": [
    "# defining the training data and data-loader"
   ]
  },
  {
   "cell_type": "code",
   "execution_count": 16,
   "id": "d9a9d9b3-eef8-467d-a4cb-1a3ebc134c8f",
   "metadata": {},
   "outputs": [],
   "source": [
    "steps = 0.02\n",
    "w_grid_train = torch.linspace(0.0, B, steps=int(B/steps) + 1)\n",
    "w_grid_train = w_grid_train.unsqueeze(dim =1)\n",
    "\n",
    "data_loader = DataLoader(w_grid_train, batch_size=len(w_grid_train), shuffle= False)"
   ]
  },
  {
   "cell_type": "code",
   "execution_count": 17,
   "id": "c39a8f34-e65a-464f-a49d-978e084578a4",
   "metadata": {},
   "outputs": [],
   "source": [
    "num_epochs = 5001 # number of epochs\n",
    "\n",
    "print_epoch_frequency = 1000 # how often printing the results"
   ]
  },
  {
   "cell_type": "code",
   "execution_count": 18,
   "id": "e4c1738e-5ff8-400e-8d40-b4c4665b5cec",
   "metadata": {},
   "outputs": [],
   "source": [
    "# initiating the neural network and setting up the optimizer"
   ]
  },
  {
   "cell_type": "code",
   "execution_count": 19,
   "id": "04cf8b0c-d31d-4ca5-9895-97037140a684",
   "metadata": {},
   "outputs": [],
   "source": [
    "v_hat = NN()\n",
    "learning_rate = 1e-2\n",
    "optimizer = torch.optim.Adam(v_hat.parameters(), lr=learning_rate)\n",
    "scheduler = torch.optim.lr_scheduler.StepLR(optimizer, step_size=100, gamma=0.95)"
   ]
  },
  {
   "cell_type": "markdown",
   "id": "531fb4d1-15ce-4297-860e-5ca2137a8e6e",
   "metadata": {},
   "source": [
    "### Calculating the expectation of the value function\n",
    "\n",
    "I use the Gauss–Legendre quadrature method to evaluate the expectation integral.  \n",
    "For more details on this method, see this [notebook](https://github.com/Mekahou/Notes/blob/main/expectation_and_numerical_integration/Gauss_Legendre_quadrature.ipynb).\n"
   ]
  },
  {
   "cell_type": "code",
   "execution_count": 20,
   "id": "0965c1a2-016d-4231-8962-712b488fc541",
   "metadata": {},
   "outputs": [],
   "source": [
    "def E_v(model,a,b,n):\n",
    "    # model: the neural network (or any callable)\n",
    "    # a: lower bound of the unifrom distribution\n",
    "    # b: upper bound of the uniform distribution\n",
    "    # n: number of the nodes Gauss-legendre quadrature\n",
    "    nodes, weights = np.polynomial.legendre.leggauss(n)\n",
    "    nodes_tensor = torch.tensor(nodes, dtype=torch.float32).unsqueeze(-1)\n",
    "    weights_tensor = torch.tensor(weights, dtype=torch.float32).unsqueeze(-1)\n",
    "    adjusted_nodes = ((b - a) / 2) * nodes_tensor + ((a + b) / 2)\n",
    "    integral = ((b - a) / 2) * torch.sum(weights_tensor * model(adjusted_nodes))\n",
    "    expectation = integral/(b-a)\n",
    "    return expectation"
   ]
  },
  {
   "cell_type": "code",
   "execution_count": 21,
   "id": "c8f51612-7673-42ff-a01d-31b36338c9ef",
   "metadata": {},
   "outputs": [
    {
     "data": {
      "text/plain": [
       "tensor(0.0609, grad_fn=<DivBackward0>)"
      ]
     },
     "execution_count": 21,
     "metadata": {},
     "output_type": "execute_result"
    }
   ],
   "source": [
    "#testing\n",
    "E_v(model = v_hat, a = 0, b = B, n = 3) "
   ]
  },
  {
   "cell_type": "markdown",
   "id": "4f4649e6-1c1d-48fa-8054-1f43e6286193",
   "metadata": {},
   "source": [
    "\n",
    "$$\n",
    "v(w) = \n",
    "\\underset{\\text{Accept or Reject}}{\\max} \\biggl\\{ \\frac{w}{1-\\beta}, c+ \\beta \\int_0^B v(w')f(w')dw'\\biggr\\}\n",
    "$$"
   ]
  },
  {
   "cell_type": "code",
   "execution_count": 22,
   "id": "672c87e9-385f-4ee0-a2f5-ba96f29674a3",
   "metadata": {},
   "outputs": [],
   "source": [
    "# training loop"
   ]
  },
  {
   "cell_type": "code",
   "execution_count": 23,
   "id": "bdf246f1-e06b-4d4f-8fa4-3edabf6deca4",
   "metadata": {},
   "outputs": [
    {
     "name": "stdout",
     "output_type": "stream",
     "text": [
      "epoch = 0, loss = 8.16e+00\n",
      "epoch = 1000, loss = 3.44e-05\n",
      "epoch = 2000, loss = 2.82e-05\n",
      "epoch = 3000, loss = 6.24e-06\n",
      "epoch = 4000, loss = 2.09e-06\n",
      "epoch = 5000, loss = 1.69e-06\n"
     ]
    }
   ],
   "source": [
    "for epoch in range(num_epochs):\n",
    "    for w in data_loader:\n",
    "        optimizer.zero_grad() # Resetting the gradients \n",
    "        lhs_v = v_hat(w)\n",
    "        v_employed = w/(1-β)\n",
    "        v_unemployed = c + β*E_v(model = v_hat, a = 0, b = B, n = 50)\n",
    "        rhs_v = torch.max(v_employed, v_unemployed) \n",
    "        residual = lhs_v-rhs_v\n",
    "        loss = (residual ** 2).mean()\n",
    "        \n",
    "        loss.backward() # Calculating the gradients (with respect to NN coefficients)\n",
    "        optimizer.step() # Using the gradients to minimize the loss function\n",
    "        \n",
    "    scheduler.step() # Dampening the learning rate\n",
    "    \n",
    "    if epoch % print_epoch_frequency == 0:\n",
    "        print(f\"epoch = {epoch}, loss = {loss.detach().numpy():.2e}\")"
   ]
  },
  {
   "cell_type": "markdown",
   "id": "9bdf3114-f2f3-4c57-8a2a-f7aa6aee63d8",
   "metadata": {},
   "source": [
    "## Plotting the results"
   ]
  },
  {
   "cell_type": "code",
   "execution_count": 24,
   "id": "0ef55342-87df-4a87-abfe-f8d1f9a7c4e7",
   "metadata": {},
   "outputs": [],
   "source": [
    "w_grid_test = torch.arange(0.0, B , 0.002)\n",
    "w_grid_test = w_grid_test.unsqueeze(dim =1)\n",
    "v_theory_test = v_theory(w_grid_test)\n",
    "v_hat_test = v_hat(w_grid_test).detach()"
   ]
  },
  {
   "cell_type": "code",
   "execution_count": 25,
   "id": "06a010c1-015c-47e7-a23a-cdadd49d5f7c",
   "metadata": {},
   "outputs": [],
   "source": [
    "relative_error = (v_theory_test - v_hat_test)/v_theory_test\n",
    "abs_rel_err = torch.abs(relative_error)"
   ]
  },
  {
   "cell_type": "code",
   "execution_count": 26,
   "id": "a250a9b5-1b22-4d39-b063-99c320e2740c",
   "metadata": {},
   "outputs": [
    {
     "data": {
      "image/png": "[encoded data removed]",
      "text/plain": [
       "<Figure size 960x400 with 2 Axes>"
      ]
     },
     "metadata": {},
     "output_type": "display_data"
    }
   ],
   "source": [
    "fig, axes = plt.subplots(1, 2, figsize=(12, 5))\n",
    "\n",
    "# --- Left plot: value functions ---\n",
    "axes[0].plot(w_grid_test, v_theory_test, '--', color=\"k\", label='Theoretical Value Function')\n",
    "axes[0].plot(w_grid_test, v_hat_test, color=\"b\", label='Deep Learning Solution')\n",
    "axes[0].set_xlabel('$w$')\n",
    "axes[0].set_ylabel('$v(w)$')\n",
    "axes[0].set_title(\"McCall Search Model\")\n",
    "axes[0].legend()\n",
    "plt.tight_layout()\n",
    "\n",
    "# --- Right plot: absolute relative error ---\n",
    "axes[1].plot(w_grid_test, abs_rel_err, color=\"r\")\n",
    "axes[1].set_xlabel('$w$')\n",
    "axes[1].set_yscale(\"log\")\n",
    "axes[1].set_ylabel('Absolute Relative Error')\n",
    "axes[1].set_title(\"Error Comparison\")\n",
    "axes[1].axvline(x=w_bar, color=\"k\", linestyle=\"--\", label=r\"Reservation wagw: $\\bar{w}$\")\n",
    "axes[1].legend()\n",
    "plt.tight_layout()\n",
    "plt.show()"
   ]
  },
  {
   "cell_type": "code",
   "execution_count": null,
   "id": "222d3341-e2c9-4b0e-a3ec-f4b0288840ad",
   "metadata": {},
   "outputs": [],
   "source": []
  }
 ],
 "metadata": {
  "kernelspec": {
   "display_name": "Python 3 (ipykernel)",
   "language": "python",
   "name": "python3"
  },
  "language_info": {
   "codemirror_mode": {
    "name": "ipython",
    "version": 3
   },
   "file_extension": ".py",
   "mimetype": "text/x-python",
   "name": "python",
   "nbconvert_exporter": "python",
   "pygments_lexer": "ipython3",
   "version": "3.11.7"
  }
 },
 "nbformat": 4,
 "nbformat_minor": 5
}
