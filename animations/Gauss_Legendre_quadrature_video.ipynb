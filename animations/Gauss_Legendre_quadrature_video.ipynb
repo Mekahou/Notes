{
 "cells": [
  {
   "cell_type": "code",
   "execution_count": 1,
   "id": "f7acf628-4630-4db0-aabd-ec3e90c89e5b",
   "metadata": {},
   "outputs": [],
   "source": [
    "import numpy as np  # NumPy for arrays\n",
    "import torch  # PyTorch for tensors\n",
    "import torch.nn as nn  # Neural network module\n",
    "import matplotlib.pyplot as plt  # For plotting\n",
    "from matplotlib import cm  # Colormap for plots"
   ]
  },
  {
   "cell_type": "code",
   "execution_count": 2,
   "id": "5323a08e-e500-4973-a278-f2d6051e90a0",
   "metadata": {},
   "outputs": [],
   "source": [
    "class NN(nn.Module):\n",
    "    def __init__(self,\n",
    "                 dim_hidden = 128,\n",
    "                layers = 1,\n",
    "                hidden_bias = True):\n",
    "        super().__init__()\n",
    "        self.dim_hidden= dim_hidden\n",
    "        self.layers = layers\n",
    "        self.hidden_bias = hidden_bias\n",
    "\n",
    "        torch.manual_seed(123)\n",
    "        module = []\n",
    "        module.append(nn.Linear(1,self.dim_hidden, bias = self.hidden_bias))\n",
    "        module.append(nn.Tanh())\n",
    "\n",
    "        for i in range(self.layers-1):\n",
    "            module.append(nn.Linear(self.dim_hidden,self.dim_hidden, bias = self.hidden_bias))\n",
    "            module.append(nn.Tanh())\n",
    "\n",
    "        module.append(nn.Linear(self.dim_hidden,1))\n",
    "        module.append(nn.Softplus(beta = 1.0)) #The softplus layer ensures c>0,k>0\n",
    "\n",
    "        self.q = nn.Sequential(*module)\n",
    "\n",
    "\n",
    "    def forward(self, x):\n",
    "        out = self.q(x) # first element is consumption, the second element is capital\n",
    "        return  out"
   ]
  },
  {
   "cell_type": "code",
   "execution_count": 3,
   "id": "44ce3d6b-a21c-4be5-9d1e-22fc784abbdd",
   "metadata": {},
   "outputs": [],
   "source": [
    "v_nn = NN()"
   ]
  },
  {
   "cell_type": "code",
   "execution_count": 4,
   "id": "55b34eab-5268-4504-9331-24a12e1a843f",
   "metadata": {},
   "outputs": [],
   "source": [
    "a = 0\n",
    "b = 3\n",
    "n = 5 # number of Gauss Legendre nodes"
   ]
  },
  {
   "cell_type": "code",
   "execution_count": 5,
   "id": "5fd28c20-c26e-4618-890f-357796a3c408",
   "metadata": {},
   "outputs": [],
   "source": [
    "def int_quad_gl_tensor(v, a, b, n):\n",
    "    # v: the neural network (or any callable)\n",
    "    # a: lower bound of the integral\n",
    "    # b: upper bound of the integral\n",
    "    # n: number of the nodes\n",
    "    nodes, weights = np.polynomial.legendre.leggauss(n)\n",
    "    nodes_tensor = torch.tensor(nodes, dtype=torch.float32).unsqueeze(-1)\n",
    "    weights_tensor = torch.tensor(weights, dtype=torch.float32).unsqueeze(-1)\n",
    "    adjusted_nodes = ((b - a) / 2) * nodes_tensor + ((a + b) / 2)\n",
    "    approximation = ((b - a) / 2) * torch.sum(weights_tensor * v(adjusted_nodes))\n",
    "    return approximation"
   ]
  },
  {
   "cell_type": "code",
   "execution_count": 6,
   "id": "2241e730-188b-46de-9cd2-6ef57e99c033",
   "metadata": {},
   "outputs": [
    {
     "data": {
      "text/plain": [
       "1.0490837097167969"
      ]
     },
     "execution_count": 6,
     "metadata": {},
     "output_type": "execute_result"
    }
   ],
   "source": [
    "gauss_Legendre_quad_int = int_quad_gl_tensor(v = v_nn, a = 0, b = 3, n = 5).item()\n",
    "gauss_Legendre_quad_int"
   ]
  },
  {
   "cell_type": "code",
   "execution_count": 7,
   "id": "c9077756-54f2-41af-89bd-30693b62915c",
   "metadata": {},
   "outputs": [],
   "source": [
    "def int_LLN(v,a,b,N):\n",
    "    x_samples = (b - a) * torch.rand(N, 1) + a\n",
    "    v_values = v(x_samples)\n",
    "    integral = (b-a)*v_values.mean()\n",
    "    return integral"
   ]
  },
  {
   "cell_type": "code",
   "execution_count": 8,
   "id": "9471ff06-5741-418d-81d6-8ff6ed4f249b",
   "metadata": {},
   "outputs": [],
   "source": [
    "# Making the animation"
   ]
  },
  {
   "cell_type": "code",
   "execution_count": 9,
   "id": "3ea28e81-f035-4fdc-805c-b40f79d03cf9",
   "metadata": {},
   "outputs": [],
   "source": [
    "# grid number of draws N\n",
    "# Building the number of nodes array\n",
    "# 1) 1 to 200 step 1\n",
    "N_1 = np.arange(1, 200, 1)\n",
    "\n",
    "# 2) 200 to 1000 step 10\n",
    "N_2 = np.arange(200, 1001, 10)\n",
    "\n",
    "# 3) 1000 to 5000 step 50\n",
    "N_3 = np.arange(1000, 10001, 30)\n",
    "\n",
    "# Combine all parts\n",
    "N_grid = np.unique(np.concatenate([N_1, N_2, N_3]))"
   ]
  },
  {
   "cell_type": "code",
   "execution_count": 10,
   "id": "51ca00b1-31af-4a80-9931-65735ffc735f",
   "metadata": {},
   "outputs": [],
   "source": [
    "integral_values = []\n",
    "for N in N_grid:\n",
    "    integral_v = int_LLN(v = v_nn,a = a, b = b, N = N).item()\n",
    "    integral_values.append(integral_v)\n",
    "\n",
    "integral_values = np.array(integral_values)"
   ]
  },
  {
   "cell_type": "code",
   "execution_count": 11,
   "id": "f72905e8-879f-44ab-badf-513174141aa7",
   "metadata": {},
   "outputs": [],
   "source": [
    "fontsize= 14\n",
    "ticksize = 14\n",
    "figsize = (9, 6)\n",
    "params = {'font.family':'serif',\n",
    "    \"figure.figsize\":figsize,\n",
    "    'figure.dpi': 80,\n",
    "    'figure.edgecolor': 'k',\n",
    "    'font.size': fontsize,\n",
    "    'axes.labelsize': fontsize,\n",
    "    'axes.titlesize': fontsize,\n",
    "    'xtick.labelsize': ticksize,\n",
    "    'ytick.labelsize': ticksize\n",
    "}\n",
    "plt.rcParams.update(params)"
   ]
  },
  {
   "cell_type": "code",
   "execution_count": 12,
   "id": "b717f8f4-0c65-4656-b758-b254df5dae37",
   "metadata": {},
   "outputs": [],
   "source": [
    "import os\n",
    "import numpy as np\n",
    "import matplotlib.pyplot as plt\n",
    "import imageio.v2 as imageio  # use v2 API to avoid warning"
   ]
  },
  {
   "cell_type": "code",
   "execution_count": 13,
   "id": "2bbf1c6a-a7e4-4390-900e-b5bd5841c16b",
   "metadata": {},
   "outputs": [],
   "source": [
    "filenames = []\n",
    "\n",
    "for i in range(N_grid.shape[0]):\n",
    "    plt.axhline(y=gauss_Legendre_quad_int, color='red', linestyle='--', label='Gauss–Legendre quadrature: 5 nodes')\n",
    "    plt.plot(N_grid[:i], integral_values[:i], color='k',label=\"Monte Carlo approximation\")\n",
    "    plt.xlim(1, N_grid.max()+1)\n",
    "    plt.ylim(integral_values.min()-0.1, integral_values.max()+0.3)\n",
    "    plt.xscale('log')\n",
    "    plt.text(10, 1.48, f\"Number of draws: {N_grid[i]}\", ha='center', fontsize=18)\n",
    "    plt.text(10, 1.37, \"$\\int_{a}^b v(x) dx$\", ha='center', fontsize=18)\n",
    "    plt.xlabel(r\"Number of draws ($N$)\")\n",
    "    plt.title(r\"Monte Carlo vs Gauss–Legendre Quadrature for Neural Network Integration\", fontsize=14)\n",
    "    plt.legend()\n",
    "    plt.tight_layout()\n",
    "    \n",
    "    filename = f'{i}.png'\n",
    "    filenames.append(filename)\n",
    "\n",
    "    # save frame\n",
    "    plt.savefig(filename)\n",
    "    plt.close()# build gif\n",
    "with imageio.get_writer('Gauss–Legendre.gif', mode='I') as writer:\n",
    "    for filename in filenames:\n",
    "        image = imageio.imread(filename)\n",
    "        writer.append_data(image)\n",
    "        \n",
    "# Remove files\n",
    "for filename in set(filenames):\n",
    "    os.remove(filename)\n",
    "\n"
   ]
  },
  {
   "cell_type": "code",
   "execution_count": null,
   "id": "904dd5cb-490a-4e1d-acd9-36e79dc4cf28",
   "metadata": {},
   "outputs": [],
   "source": []
  }
 ],
 "metadata": {
  "kernelspec": {
   "display_name": "Python 3 (ipykernel)",
   "language": "python",
   "name": "python3"
  },
  "language_info": {
   "codemirror_mode": {
    "name": "ipython",
    "version": 3
   },
   "file_extension": ".py",
   "mimetype": "text/x-python",
   "name": "python",
   "nbconvert_exporter": "python",
   "pygments_lexer": "ipython3",
   "version": "3.11.7"
  }
 },
 "nbformat": 4,
 "nbformat_minor": 5
}
